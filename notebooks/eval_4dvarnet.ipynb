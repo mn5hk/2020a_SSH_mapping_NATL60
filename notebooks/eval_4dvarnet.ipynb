{
 "cells": [
  {
   "cell_type": "markdown",
   "id": "b8bf8492",
   "metadata": {},
   "source": [
    "# Evaluation 4DVARNET: \n",
    "\n",
    "This notebook presents the evaluation of the SSH reconstructions based on the 4DVarNet approach ([R Fablet et al.,2021](https://hal.archives-ouvertes.fr/hal-03189218)) and performed for the **\"\n",
    "2020a_SSH_mapping_NATL60\" ocean data challenge**.\n",
    "\n",
    "Three experiments are analysed:\n",
    ">   A) **Experiment 1:** 4DVARNET SSH reconstruction with 4 nadir altimeters\n",
    "\n",
    ">   B) **Experiment 2:** 4DVARNET SSH reconstruction with 1 SWOT + 4 altimeters\n",
    "\n",
    " The evaluations are based on the methods & metrics described in the \"example_data_eval.ipynb\" notebook"
   ]
  },
  {
   "cell_type": "code",
   "execution_count": null,
   "id": "99318826",
   "metadata": {},
   "outputs": [],
   "source": [
    "import xarray as xr\n",
    "import numpy\n",
    "import hvplot.xarray\n",
    "import pyinterp\n",
    "import dask\n",
    "import warnings\n",
    "import xrft\n",
    "import os\n",
    "import sys\n",
    "import pandas as pd\n",
    "import logging\n",
    "warnings.filterwarnings('ignore')"
   ]
  },
  {
   "cell_type": "markdown",
   "id": "7d6f4cc1",
   "metadata": {},
   "source": [
    "##### libraries versions"
   ]
  },
  {
   "cell_type": "code",
   "execution_count": null,
   "id": "a14ddfeb",
   "metadata": {},
   "outputs": [],
   "source": [
    "print('xarray', xr.__version__)\n",
    "print('numpy', numpy.__version__)\n",
    "print('hvplot', hvplot.__version__)\n",
    "print('pyinterp', pyinterp.__version__)\n",
    "print('dask', dask.__version__)\n",
    "print('logging', logging.__version__)\n",
    "print('xrft', xrft.__version__)"
   ]
  },
  {
   "cell_type": "code",
   "execution_count": null,
   "id": "9bb66ba2",
   "metadata": {},
   "outputs": [],
   "source": [
    "logger = logging.getLogger()\n",
    "logger.setLevel(logging.INFO)"
   ]
  },
  {
   "cell_type": "code",
   "execution_count": null,
   "id": "33294a65",
   "metadata": {},
   "outputs": [],
   "source": [
    "sys.path.append('..')"
   ]
  },
  {
   "cell_type": "code",
   "execution_count": null,
   "id": "d79a0023",
   "metadata": {},
   "outputs": [],
   "source": [
    "from src.mod_oi import *\n",
    "from src.mod_inout import *\n",
    "from src.mod_regrid import *\n",
    "from src.mod_eval import *\n",
    "from src.mod_plot import *"
   ]
  },
  {
   "cell_type": "markdown",
   "id": "02b6c33f",
   "metadata": {},
   "source": [
    "##### Read Nature run SSH for mapping evaluation"
   ]
  },
  {
   "cell_type": "code",
   "execution_count": null,
   "id": "edad07c8",
   "metadata": {},
   "outputs": [],
   "source": [
    "data_directory = '../data/'\n",
    "if not os.path.exists(data_directory):\n",
    "    os.mkdir(data_directory) "
   ]
  },
  {
   "cell_type": "markdown",
   "id": "841bf0e7",
   "metadata": {},
   "source": [
    "Read Nature run SSH for mapping evaluation"
   ]
  },
  {
   "cell_type": "code",
   "execution_count": null,
   "id": "4885f387",
   "metadata": {},
   "outputs": [],
   "source": [
    "if not os.path.exists('../dc_ref'):\n",
    "    print('dc_ref folder not found...')\n",
    "    print('download it...')\n",
    "    # Get nature run (it may take several minutes depending on your connection!!!!)\n",
    "    !wget https://ige-meom-opendap.univ-grenoble-alpes.fr/thredds/fileServer/meomopendap/extract/ocean-data-challenges/dc_data1/dc_ref.tar.gz\n",
    "    !tar -xvf dc_ref.tar.gz --directory ../\n",
    "    !rm -f dc_ref.tar.gz\n",
    "    \n",
    "dc_ref = xr.open_mfdataset('../dc_ref/*.nc', combine='nested', concat_dim='time', parallel=True)\n",
    "dc_ref"
   ]
  },
  {
   "cell_type": "code",
   "execution_count": null,
   "id": "b60c8474",
   "metadata": {},
   "outputs": [],
   "source": [
    "# Domain for analysis: Gulfstream\n",
    "time_min = numpy.datetime64('2012-10-22')                # domain min time\n",
    "time_max = numpy.datetime64('2012-12-03')                # domain max time\n",
    "lon_min = -64.975                                        # domain min lon\n",
    "lon_max = -55.007                                        # domain max lon\n",
    "lat_min = 33.025                                         # domain min lat\n",
    "lat_max = 42.9917                                        # domain max lat"
   ]
  },
  {
   "cell_type": "code",
   "execution_count": null,
   "id": "a87fecc6",
   "metadata": {},
   "outputs": [],
   "source": [
    "dc_ref_sample = dc_ref.sel(time=slice(time_min, time_max)).resample(time='1D').mean()\n",
    "del dc_ref\n",
    "dc_ref_sample"
   ]
  },
  {
   "cell_type": "code",
   "execution_count": null,
   "id": "85eef01a",
   "metadata": {},
   "outputs": [],
   "source": [
    "import numpy as np \n",
    "id=np.arange(2,600,3)\n",
    "dc_ref_sample = dc_ref_sample.isel(lon=id,lat=id)"
   ]
  },
  {
   "cell_type": "markdown",
   "id": "ea72b927",
   "metadata": {},
   "source": [
    "#### - Evaluation 4DVarNet with 4 nadirs (Experience 1)"
   ]
  },
  {
   "cell_type": "code",
   "execution_count": null,
   "id": "195399d7",
   "metadata": {},
   "outputs": [],
   "source": [
    "# Read 4DVarNet SSH reconstruction\n",
    "!wget https://ige-meom-opendap.univ-grenoble-alpes.fr/thredds/fileServer/meomopendap/extract/ocean-data-challenges/dc_data1/dc_mapping/2020a_SSH_mapping_NATL60_4DVarNet_nadir_GF_GF.nc\n",
    "ds_oi1_grid = xr.open_dataset('2020a_SSH_mapping_NATL60_4DVarNet_nadir_GF_GF.nc')\n",
    "ds_oi1_grid"
   ]
  },
  {
   "cell_type": "code",
   "execution_count": null,
   "id": "6bdefbf5",
   "metadata": {},
   "outputs": [],
   "source": [
    "output_directory = '../results/'\n",
    "if not os.path.exists(output_directory):\n",
    "    os.mkdir(output_directory) "
   ]
  },
  {
   "cell_type": "code",
   "execution_count": null,
   "id": "940e102c",
   "metadata": {},
   "outputs": [],
   "source": [
    "%%time\n",
    "# Regrid    \n",
    "ds_oi1_regrid = oi_regrid(ds_oi1_grid, dc_ref_sample)\n",
    "# Eval\n",
    "rmse_t_oi1, rmse_xy_oi1, leaderboard_nrmse, leaderboard_nrmse_std = rmse_based_scores(ds_oi1_regrid, dc_ref_sample)\n",
    "psd_oi1, leaderboard_psds_score, leaderboard_psdt_score  = psd_based_scores(ds_oi1_regrid, dc_ref_sample)\n",
    "\n",
    "filename_rmse_t = output_directory + 'rmse_t_4dvarnet_ssh_reconstruction_2012-10-22-2012-12-02_jason1_topex-poseidon_interleaved_envisat_geosat2.nc'\n",
    "filename_rmse_xy = output_directory + 'rmse_xy_4dvarnet_ssh_reconstruction_2012-10-22-2012-12-02_jason1_topex-poseidon_interleaved_envisat_geosat2.nc'\n",
    "filename_psd = output_directory + 'psd_4dvarnet_ssh_reconstruction_2012-10-22-2012-12-02_jason1_topex-poseidon_interleaved_envisat_geosat2.nc'\n",
    "filename_dc_ref_sample = output_directory + 'dc_ref_2012-10-22-2012-12-02_sample.nc'\n",
    "filename_oi_regrid = output_directory + '4dvarnet_ssh_reconstruction_regridded_2012-10-22-2012-12-02_jason1_topex-poseidon_interleaved_envisat_geosat2.nc'\n",
    "# Save results\n",
    "rmse_t_oi1.to_netcdf(filename_rmse_t)\n",
    "rmse_xy_oi1.to_netcdf(filename_rmse_xy)\n",
    "psd_oi1.name = 'psd_score'\n",
    "psd_oi1.to_netcdf(filename_psd)\n",
    "dc_ref_sample.to_netcdf(filename_dc_ref_sample)\n",
    "ds_oi1_regrid.to_netcdf(filename_oi_regrid)\n",
    "# Print leaderboard\n",
    "data = [['4DVarNet GF/GF', \n",
    "         leaderboard_nrmse, \n",
    "         leaderboard_nrmse_std, \n",
    "         leaderboard_psds_score, \n",
    "         leaderboard_psdt_score,\n",
    "        'GF/GF',\n",
    "        'eval_4dvarnet.ipynb']]\n",
    "\n",
    "Leaderboard = pd.DataFrame(data, \n",
    "                           columns=['Method', \n",
    "                                    \"µ(RMSE) \", \n",
    "                                    \"σ(RMSE)\", \n",
    "                                    'λx (degree)', \n",
    "                                    'λt (days)', \n",
    "                                    'Notes',\n",
    "                                    'Reference'])\n",
    "print(\"Summary of the leaderboard metrics:\")\n",
    "Leaderboard\n",
    "print(Leaderboard.to_markdown())"
   ]
  },
  {
   "cell_type": "markdown",
   "id": "65ec9643",
   "metadata": {},
   "source": [
    "### Evaluation 4DVarNet with 1 swot + 4 nadirs (Experience 2)"
   ]
  },
  {
   "cell_type": "code",
   "execution_count": null,
   "id": "715c248f",
   "metadata": {},
   "outputs": [],
   "source": [
    "# Read 4DVarNet SSH reconstruction\n",
    "!wget https://ige-meom-opendap.univ-grenoble-alpes.fr/thredds/fileServer/meomopendap/extract/ocean-data-challenges/dc_data1/dc_mapping/2020a_SSH_mapping_NATL60_4DVarNet_nadirswot_GF_GF.nc\n",
    "ds_oi2_grid = xr.open_dataset('2020a_SSH_mapping_NATL60_4DVarNet_nadirswot_GF_GF.nc')\n",
    "ds_oi2_grid"
   ]
  },
  {
   "cell_type": "code",
   "execution_count": null,
   "id": "4aba1490",
   "metadata": {},
   "outputs": [],
   "source": [
    "%%time\n",
    "# Regrid    \n",
    "ds_oi2_regrid = oi_regrid(ds_oi2_grid, dc_ref_sample)\n",
    "# Eval\n",
    "rmse_t_oi2, rmse_xy_oi2, leaderboard_nrmse, leaderboard_nrmse_std = rmse_based_scores(ds_oi2_regrid, dc_ref_sample)\n",
    "psd_oi2, leaderboard_psds_score, leaderboard_psdt_score  = psd_based_scores(ds_oi2_regrid, dc_ref_sample)\n",
    "\n",
    "filename_rmse_t = output_directory + 'rmse_t_4dvarnet_ssh_reconstruction_2012-10-22-2012-12-02_swot_jason1_topex-poseidon_interleaved_envisat_geosat2.nc'\n",
    "filename_rmse_xy = output_directory + 'rmse_xy_4dvarnet_ssh_reconstruction_2012-10-22-2012-12-02_swot_jason1_topex-poseidon_interleaved_envisat_geosat2.nc'\n",
    "filename_psd = output_directory + 'psd_4dvarnet_ssh_reconstruction_2012-10-22-2012-12-02_swot_jason1_topex-poseidon_interleaved_envisat_geosat2.nc'\n",
    "filename_dc_ref_sample = output_directory + 'dc_ref_2012-10-22-2012-12-02_sample.nc'\n",
    "filename_oi_regrid = output_directory + '4dvarnet_ssh_reconstruction_regridded_2012-10-22-2012-12-02_swot_jason1_topex-poseidon_interleaved_envisat_geosat2.nc'\n",
    "# Save results\n",
    "rmse_t_oi2.to_netcdf(filename_rmse_t)\n",
    "rmse_xy_oi2.to_netcdf(filename_rmse_xy)\n",
    "\n",
    "psd_oi2.name = 'psd_score'\n",
    "psd_oi2.to_netcdf(filename_psd)\n",
    "#dc_ref_sample.to_netcdf(filename_dc_ref_sample)\n",
    "ds_oi2_regrid.to_netcdf(filename_oi_regrid)\n",
    "# Print leaderboard\n",
    "data = [['4DVarNet NATLFineTuningGF/GF',\n",
    "         leaderboard_nrmse, \n",
    "         leaderboard_nrmse_std, \n",
    "         leaderboard_psds_score, \n",
    "         leaderboard_psdt_score,\n",
    "        'NATLFineTuningGF/GF',\n",
    "        'eval_4dvarnet.ipynb']]\n",
    "\n",
    "Leaderboard = pd.DataFrame(data, \n",
    "                           columns=['Method', \n",
    "                                    \"µ(RMSE) \", \n",
    "                                    \"σ(RMSE)\", \n",
    "                                    'λx (degree)', \n",
    "                                    'λt (days)', \n",
    "                                    'Notes',\n",
    "                                    'Reference'])\n",
    "print(\"Summary of the leaderboard metrics:\")\n",
    "Leaderboard\n",
    "print(Leaderboard.to_markdown())"
   ]
  },
  {
   "cell_type": "markdown",
   "id": "8ff41613",
   "metadata": {},
   "source": [
    "#### - PLOT EVALUATION SCORES"
   ]
  },
  {
   "cell_type": "code",
   "execution_count": null,
   "id": "0143cc05",
   "metadata": {},
   "outputs": [],
   "source": [
    "rmse_concat = xr.concat((rmse_t_oi1, rmse_t_oi2), dim='experiment')\n",
    "rmse_concat['experiment'] = [\"4 nadir\", \"1SWOT + 4 nadirs\"]\n",
    "rmse_concat.hvplot.line(x='time', y='rmse_t', by='experiment', ylim=(0, 1), cmap=['royalblue', 'lightcoral'], title='RMSE-based scores')"
   ]
  },
  {
   "cell_type": "markdown",
   "id": "b9f2367c",
   "metadata": {},
   "source": [
    "The figure above shows the time series of the RMSE scores for the reconstruction of SSH with 1 SWOT+ 4 nadirs and with 1 SWOT. The mean score is similar for each of the experiments. However, the variability of the RMSE score in the 1 SWOT + 4 nadirs reconstructions is slightly higher than in the 4 nadirs reconstruction only. This difference is potentially related to the fact that the estimation of SSH in the DUACS OI is based on a limited number of observations around the \"lon/lat/time\" estimation point and that the 21-day SWOT repetitivity modulates this variability locally more strongly than in the 4 nadirs case. A solution to reduce this variability in the 1 SWOT + 4 nadirs would be to tolerate a larger number of observations in the DUACS OI inversion."
   ]
  },
  {
   "cell_type": "code",
   "execution_count": null,
   "id": "eeef33da",
   "metadata": {},
   "outputs": [],
   "source": [
    "rmse_xy_concat = xr.concat((rmse_xy_oi1, rmse_xy_oi2), dim='experiment')\n",
    "rmse_xy_concat['experiment'] = [\"4 nadirs\", \"1 SWOT + 4 nadirs\"]\n",
    "rmse_xy_concat.hvplot.contourf(x='lon', y='lat', levels=list(numpy.arange(0.,0.75, 0.05)), height=300, width=400, cmap='Reds', subplots=True, by='experiment', clabel='RMSE[m]')"
   ]
  },
  {
   "cell_type": "code",
   "execution_count": null,
   "id": "38f1e75d",
   "metadata": {},
   "outputs": [],
   "source": [
    "psd_concat = xr.concat((psd_oi1, psd_oi2), dim='experiment')\n",
    "psd_concat['experiment'] = [\"4 nadir\", \"1 SWOT + 4 nadirs\"]"
   ]
  },
  {
   "cell_type": "code",
   "execution_count": null,
   "id": "2230866e",
   "metadata": {},
   "outputs": [],
   "source": [
    "plot_psd_score_v0(psd_concat)"
   ]
  },
  {
   "cell_type": "markdown",
   "id": "36395b46",
   "metadata": {},
   "source": [
    "The PSD-based score evaluates the spatio-temporal scales resolved in mapping (green area). Resolution limits can be defined as the contour where the PSD score = 0.5, black contour in the figure (i.e. space-time scales where the reconstruction SSH error level is 2 times lower than the real SSH signal). The figure above illustrates the spatio-temporal scales solved in each experiment 4 nadirs and 4 nadirs + 1 SWOT. It shows the slight increase in resolution capability from 4 nadirs altimeters to 4 nadirs + 1 SWOT altimeters for spatial wavelengths below 2 degrees"
   ]
  }
 ],
 "metadata": {
  "kernelspec": {
   "display_name": "conda_env",
   "language": "python",
   "name": "conda_env"
  },
  "language_info": {
   "codemirror_mode": {
    "name": "ipython",
    "version": 3
   },
   "file_extension": ".py",
   "mimetype": "text/x-python",
   "name": "python",
   "nbconvert_exporter": "python",
   "pygments_lexer": "ipython3",
   "version": "3.7.8"
  }
 },
 "nbformat": 4,
 "nbformat_minor": 5
}
